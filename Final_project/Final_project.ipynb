{
 "cells": [
  {
   "cell_type": "code",
   "execution_count": 10,
   "id": "4c12f476-815c-4f65-ab9b-b14afa2287e5",
   "metadata": {},
   "outputs": [
    {
     "ename": "SyntaxError",
     "evalue": "invalid syntax. Perhaps you forgot a comma? (32255497.py, line 25)",
     "output_type": "error",
     "traceback": [
      "\u001b[1;36m  Cell \u001b[1;32mIn[10], line 25\u001b[1;36m\u001b[0m\n\u001b[1;33m    df_numeric = pd.read_csv(\"german.data-numeric\", sep ='\\\\s+' delim_whitespace=True, header=None, names=columns)\u001b[0m\n\u001b[1;37m                                                         ^\u001b[0m\n\u001b[1;31mSyntaxError\u001b[0m\u001b[1;31m:\u001b[0m invalid syntax. Perhaps you forgot a comma?\n"
     ]
    }
   ],
   "source": [
    "import pandas as pd\n",
    "from sklearn.model_selection import train_test_split\n",
    "from sklearn.ensemble import RandomForestClassifier\n",
    "from sklearn.metrics import classification_report, confusion_matrix\n",
    "#note: The following data and the details of the data taken from the given source in the portal.\n",
    "# Loading data:\n",
    "columns = [\n",
    "    'Status_Checking_Account', 'Duration', 'Credit_History', 'Purpose',\n",
    "    'Credit_Amount', 'Savings_Account_Bonds', 'Employment_Since',\n",
    "    'Installment_Rate', 'Personal_Status_Sex', 'Other_Debtors_Guarantors',\n",
    "    'Present_Residence_Since', 'Property', 'Age', 'Other_Installment_Plans',\n",
    "    'Housing', 'Number_Credits', 'Job', 'People_Liable', 'Telephone',\n",
    "    'Foreign_Worker', 'Credit_Risk'\n",
    "]\n",
    "\n",
    "#  Loading categorical + numeric version :\n",
    "df_mixed = pd.read_csv(\"german.data\", sep=' ', header=None, names=columns)\n",
    "\n",
    "# Map target variable to binary:\n",
    "#1 = Good credit\n",
    "#2 = Bad credit\n",
    "df_mixed['Credit_Risk'] = df_mixed['Credit_Risk'].map({1: 1, 2: 0})\n",
    "\n",
    "#  Load numeric version :\n",
    "df_numeric = pd.read_csv(\"german.data-numeric\", sep ='\\\\s+' delim_whitespace=True, header=None, names=columns)\n",
    "\n",
    "# Map target in numeric as well:\n",
    "df_numeric['Credit_Risk'] = df_numeric['Credit_Risk'].map({1: 1, 2: 0})\n",
    "\n",
    "# Check both DataFrames:\n",
    "print(\"Mixed types dataset:\")\n",
    "print(df_mixed.head())\n",
    "\n",
    "print(\"\\nNumeric-only dataset:\")\n",
    "print(df_numeric.head())\n",
    "\n",
    "\n",
    "# Features and target:\n",
    "X = df.drop('Creditworthiness', axis=1)\n",
    "y = df['Creditworthiness']\n",
    "\n",
    "# Train-test split\n",
    "X_train, X_test, y_train, y_test = train_test_split(X, y, test_size=0.3, random_state=42)\n",
    "\n",
    "# Random Forest:\n",
    "rf = RandomForestClassifier(n_estimators=100, random_state=42)\n",
    "rf.fit(X_train, y_train)\n",
    "y_pred = rf.predict(X_test)\n",
    "\n",
    "# Evaluation:\n",
    "print(classification_report(y_test, y_pred))\n",
    "print(confusion_matrix(y_test, y_pred))\n"
   ]
  },
  {
   "cell_type": "code",
   "execution_count": null,
   "id": "675c8a59-f859-4bda-99db-7f674693812f",
   "metadata": {},
   "outputs": [],
   "source": []
  }
 ],
 "metadata": {
  "kernelspec": {
   "display_name": "Python [conda env:base] *",
   "language": "python",
   "name": "conda-base-py"
  },
  "language_info": {
   "codemirror_mode": {
    "name": "ipython",
    "version": 3
   },
   "file_extension": ".py",
   "mimetype": "text/x-python",
   "name": "python",
   "nbconvert_exporter": "python",
   "pygments_lexer": "ipython3",
   "version": "3.12.7"
  }
 },
 "nbformat": 4,
 "nbformat_minor": 5
}
